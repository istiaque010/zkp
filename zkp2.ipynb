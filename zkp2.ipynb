{
 "cells": [
  {
   "cell_type": "code",
   "execution_count": 31,
   "id": "3e1d8280",
   "metadata": {},
   "outputs": [
    {
     "name": "stdout",
     "output_type": "stream",
     "text": [
      "True\n"
     ]
    }
   ],
   "source": [
    "from Crypto.Random import random\n",
    "from random import SystemRandom\n",
    "\n",
    "g = 2\n",
    "p = 1073741827\n",
    "\n",
    "\n",
    "# Step 1: Choose a random x and compute y = g^x mod p\n",
    "x = random.randint(1, p-1)\n",
    "y = pow(g, x, p)\n",
    "\n",
    " # Step 2: Commitment\n",
    "r = random.randint(1, p-1)\n",
    "#here is golod\n",
    "u = pow(g, r, p)\n",
    "\n",
    "# Step 3: Challenge\n",
    "e = random.randint(1, p-1)\n",
    "\n",
    "# Step 4: Response\n",
    "s = (r + e*x) % (p-1)\n",
    "\n",
    "# Step 5: Verification\n",
    "left = pow(g, s, p)\n",
    "right = (u * pow(y, e, p)) % p\n",
    "\n",
    "if left == right:\n",
    "     print('True')\n",
    "else:\n",
    "    print('False')\n",
    "\n"
   ]
  },
  {
   "cell_type": "code",
   "execution_count": null,
   "id": "71b80bc5",
   "metadata": {},
   "outputs": [],
   "source": []
  }
 ],
 "metadata": {
  "kernelspec": {
   "display_name": "Python 3",
   "language": "python",
   "name": "python3"
  },
  "language_info": {
   "codemirror_mode": {
    "name": "ipython",
    "version": 3
   },
   "file_extension": ".py",
   "mimetype": "text/x-python",
   "name": "python",
   "nbconvert_exporter": "python",
   "pygments_lexer": "ipython3",
   "version": "3.8.8"
  }
 },
 "nbformat": 4,
 "nbformat_minor": 5
}
