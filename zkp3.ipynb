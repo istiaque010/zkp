{
 "cells": [
  {
   "cell_type": "code",
   "execution_count": 47,
   "id": "9f7cd48a",
   "metadata": {},
   "outputs": [
    {
     "name": "stdout",
     "output_type": "stream",
     "text": [
      "They know that person's birthday\n"
     ]
    }
   ],
   "source": [
    "from Crypto.Random import random\n",
    "from Crypto.Hash import SHA256\n",
    "\n",
    "# Define parameters\n",
    "g = 2 # public parameter, generator of the group\n",
    "p = 1073741827 # public parameter, prime number\n",
    "\n",
    "# Step 1: Choose a random x and compute y = g^x mod p\n",
    "x = random.randint(1, p-1) # secret we want to prove knowledge of\n",
    "#x = 1101938 # Don't let anyone peek! Jan 10, 1938\n",
    "y = pow(g,x,p) # more efficient than (g**x) % p\n",
    "\n",
    "\n",
    " # Step 2: Commitment\n",
    "r = random.randint(1, p-1)\n",
    "u = pow(g,r,p)\n",
    "\n",
    "# Step 3: Challenge\n",
    "e = random.randint(1, p-1)\n",
    "\n",
    "\n",
    "# Step 4: Response\n",
    "# Calculate z\n",
    "h = SHA256.new()\n",
    "h.update(str(g).encode())\n",
    "h.update(str(y).encode())\n",
    "h.update(str(e).encode())\n",
    "\n",
    "z = (r+e*x)%(p-1)\n",
    "\n",
    "\n",
    "# Step 5: Verification\n",
    "left=pow(g,z,p)\n",
    "right=(u * pow(y,e,p)) % p\n",
    "\n",
    "if  left== right:\n",
    "       print(\"They know that person's birthday\")          \n",
    "else: \n",
    "      print(\"They're lying! They don't know their birthday\")"
   ]
  }
 ],
 "metadata": {
  "kernelspec": {
   "display_name": "Python 3",
   "language": "python",
   "name": "python3"
  },
  "language_info": {
   "codemirror_mode": {
    "name": "ipython",
    "version": 3
   },
   "file_extension": ".py",
   "mimetype": "text/x-python",
   "name": "python",
   "nbconvert_exporter": "python",
   "pygments_lexer": "ipython3",
   "version": "3.8.8"
  }
 },
 "nbformat": 4,
 "nbformat_minor": 5
}
