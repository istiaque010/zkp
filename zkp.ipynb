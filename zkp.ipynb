{
 "cells": [
  {
   "cell_type": "code",
   "execution_count": 83,
   "id": "6490072c",
   "metadata": {},
   "outputs": [
    {
     "name": "stdout",
     "output_type": "stream",
     "text": [
      "Proof not verified.\n"
     ]
    }
   ],
   "source": [
    "from Crypto.Random import random\n",
    "from Crypto.Hash import SHA256\n",
    "\n",
    "\n",
    "p = 1073741827 # prime number\n",
    "g = 2 # generator of the group\n",
    "x = random.randint(1, p-1) # secret we want to prove knowledge of\n",
    "\n",
    "# Generate random value and calculate y\n",
    "r = random.randint(1, p-1)\n",
    "y = pow(g, r, p)\n",
    "\n",
    "# Generate challenge value\n",
    "c = random.randint(1, 2**128)\n",
    "\n",
    "# Calculate z\n",
    "h = SHA256.new()\n",
    "h.update(str(g).encode())\n",
    "h.update(str(y).encode())\n",
    "h.update(str(c).encode())\n",
    "\n",
    "z = (r + c*x) % (p-1)\n",
    "\n",
    "# Verify proof\n",
    "left_side = pow(g, z, p)\n",
    "right_side = (pow(y, p-2, p) * pow(g, -c, p)) % p\n",
    "if left_side == right_side:\n",
    "    print(\"Proof verified!\")\n",
    "else:\n",
    "    print(\"Proof not verified.\")\n"
   ]
  },
  {
   "cell_type": "code",
   "execution_count": null,
   "id": "99f8dfe7",
   "metadata": {},
   "outputs": [],
   "source": []
  }
 ],
 "metadata": {
  "kernelspec": {
   "display_name": "Python 3",
   "language": "python",
   "name": "python3"
  },
  "language_info": {
   "codemirror_mode": {
    "name": "ipython",
    "version": 3
   },
   "file_extension": ".py",
   "mimetype": "text/x-python",
   "name": "python",
   "nbconvert_exporter": "python",
   "pygments_lexer": "ipython3",
   "version": "3.8.8"
  }
 },
 "nbformat": 4,
 "nbformat_minor": 5
}
